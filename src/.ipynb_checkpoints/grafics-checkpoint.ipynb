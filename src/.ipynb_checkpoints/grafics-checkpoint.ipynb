{
 "cells": [
  {
   "cell_type": "code",
   "execution_count": 24,
   "id": "55b16043-a251-42f0-b2fb-39606f0cdbd2",
   "metadata": {},
   "outputs": [],
   "source": [
    "file_type = 'csv'\n",
    "infer_schema = 'false'\n",
    "first_row_is_header = 'True'\n",
    "delimiter = ','\n",
    "file_location_csv = 'case2.csv'\n",
    "df = spark.read.format(file_type)\\\n",
    "    .option(\"inferSchema\", infer_schema)\\\n",
    "    .option(\"multiline\",\"true\")\\\n",
    "    .option(\"encoding\",\"utf8\")\\\n",
    "    .option(\"header\", first_row_is_header)\\\n",
    "    .option(\"sep\", delimiter)\\\n",
    "    .load(file_location_csv)\n"
   ]
  },
  {
   "cell_type": "code",
   "execution_count": 25,
   "id": "92365c2f-e3ee-4b15-ad80-7a23244f70d5",
   "metadata": {},
   "outputs": [
    {
     "name": "stdout",
     "output_type": "stream",
     "text": [
      "+----+--------------------+----------+\n",
      "|year|              genres|profitable|\n",
      "+----+--------------------+----------+\n",
      "|2022|Fantasy-Action-Ad...| 607000000|\n",
      "|2008|Animation-Fantasy...| 160726310|\n",
      "+----+--------------------+----------+\n",
      "only showing top 2 rows\n",
      "\n"
     ]
    }
   ],
   "source": [
    "df.show(2)"
   ]
  },
  {
   "cell_type": "code",
   "execution_count": 26,
   "id": "1367f720-e87c-43cc-a74f-aa9171340d2a",
   "metadata": {},
   "outputs": [],
   "source": [
    "dfcase2= df.toPandas()"
   ]
  },
  {
   "cell_type": "code",
   "execution_count": 27,
   "id": "f31e62e5-94ee-4189-b82e-7d71803792b8",
   "metadata": {},
   "outputs": [
    {
     "data": {
      "text/html": [
       "<div>\n",
       "<style scoped>\n",
       "    .dataframe tbody tr th:only-of-type {\n",
       "        vertical-align: middle;\n",
       "    }\n",
       "\n",
       "    .dataframe tbody tr th {\n",
       "        vertical-align: top;\n",
       "    }\n",
       "\n",
       "    .dataframe thead th {\n",
       "        text-align: right;\n",
       "    }\n",
       "</style>\n",
       "<table border=\"1\" class=\"dataframe\">\n",
       "  <thead>\n",
       "    <tr style=\"text-align: right;\">\n",
       "      <th></th>\n",
       "      <th>year</th>\n",
       "      <th>genres</th>\n",
       "      <th>profitable</th>\n",
       "    </tr>\n",
       "  </thead>\n",
       "  <tbody>\n",
       "    <tr>\n",
       "      <th>0</th>\n",
       "      <td>2022</td>\n",
       "      <td>Fantasy-Action-Adventure</td>\n",
       "      <td>607000000</td>\n",
       "    </tr>\n",
       "    <tr>\n",
       "      <th>1</th>\n",
       "      <td>2008</td>\n",
       "      <td>Animation-Fantasy-Family</td>\n",
       "      <td>160726310</td>\n",
       "    </tr>\n",
       "    <tr>\n",
       "      <th>2</th>\n",
       "      <td>2016</td>\n",
       "      <td>Romance-Comedy</td>\n",
       "      <td>87942512</td>\n",
       "    </tr>\n",
       "    <tr>\n",
       "      <th>3</th>\n",
       "      <td>2017</td>\n",
       "      <td>Animation-Action-Adventure-Fantasy-Romance-Sci...</td>\n",
       "      <td>20725409</td>\n",
       "    </tr>\n",
       "    <tr>\n",
       "      <th>4</th>\n",
       "      <td>2001</td>\n",
       "      <td>Animation-Family-Fantasy</td>\n",
       "      <td>255925095</td>\n",
       "    </tr>\n",
       "    <tr>\n",
       "      <th>...</th>\n",
       "      <td>...</td>\n",
       "      <td>...</td>\n",
       "      <td>...</td>\n",
       "    </tr>\n",
       "    <tr>\n",
       "      <th>6470</th>\n",
       "      <td>1987</td>\n",
       "      <td>Drama-Action-Thriller-Crime</td>\n",
       "      <td>453888</td>\n",
       "    </tr>\n",
       "    <tr>\n",
       "      <th>6471</th>\n",
       "      <td>2009</td>\n",
       "      <td>Comedy-Documentary</td>\n",
       "      <td>1500000</td>\n",
       "    </tr>\n",
       "    <tr>\n",
       "      <th>6472</th>\n",
       "      <td>2020</td>\n",
       "      <td>War-Drama-Action</td>\n",
       "      <td>1</td>\n",
       "    </tr>\n",
       "    <tr>\n",
       "      <th>6473</th>\n",
       "      <td>2019</td>\n",
       "      <td>Adventure-Science Fiction-Fantasy-Mystery-Drama</td>\n",
       "      <td>990000</td>\n",
       "    </tr>\n",
       "    <tr>\n",
       "      <th>6474</th>\n",
       "      <td>2017</td>\n",
       "      <td>Documentary-Drama</td>\n",
       "      <td>3500</td>\n",
       "    </tr>\n",
       "  </tbody>\n",
       "</table>\n",
       "<p>6475 rows × 3 columns</p>\n",
       "</div>"
      ],
      "text/plain": [
       "      year                                             genres profitable\n",
       "0     2022                           Fantasy-Action-Adventure  607000000\n",
       "1     2008                           Animation-Fantasy-Family  160726310\n",
       "2     2016                                     Romance-Comedy   87942512\n",
       "3     2017  Animation-Action-Adventure-Fantasy-Romance-Sci...   20725409\n",
       "4     2001                           Animation-Family-Fantasy  255925095\n",
       "...    ...                                                ...        ...\n",
       "6470  1987                        Drama-Action-Thriller-Crime     453888\n",
       "6471  2009                                 Comedy-Documentary    1500000\n",
       "6472  2020                                   War-Drama-Action          1\n",
       "6473  2019    Adventure-Science Fiction-Fantasy-Mystery-Drama     990000\n",
       "6474  2017                                  Documentary-Drama       3500\n",
       "\n",
       "[6475 rows x 3 columns]"
      ]
     },
     "execution_count": 27,
     "metadata": {},
     "output_type": "execute_result"
    }
   ],
   "source": [
    "dfcase2"
   ]
  }
 ],
 "metadata": {
  "kernelspec": {
   "display_name": "Python 3 (ipykernel)",
   "language": "python",
   "name": "python3"
  },
  "language_info": {
   "codemirror_mode": {
    "name": "ipython",
    "version": 3
   },
   "file_extension": ".py",
   "mimetype": "text/x-python",
   "name": "python",
   "nbconvert_exporter": "python",
   "pygments_lexer": "ipython3",
   "version": "3.10.4"
  }
 },
 "nbformat": 4,
 "nbformat_minor": 5
}
