{
 "cells": [
  {
   "cell_type": "code",
   "execution_count": 1,
   "id": "b1bd4d04-6d04-408f-a17c-0b9c87bc1179",
   "metadata": {},
   "outputs": [],
   "source": [
    "from pyspark.context import SparkContext\n",
    "from pyspark.sql.session import SparkSession\n",
    "import pyspark.sql.functions as f\n",
    "from pyspark.sql.window import Window\n",
    "sc = SparkContext('local')\n",
    "spark = SparkSession(sc)"
   ]
  },
  {
   "cell_type": "code",
   "execution_count": 2,
   "id": "7d3161f1-f4de-4259-a8e2-1057e588f381",
   "metadata": {},
   "outputs": [],
   "source": [
    "#read file \n",
    "file_type = 'csv'\n",
    "infer_schema = 'false'\n",
    "first_row_is_header = 'true'\n",
    "delimiter = ','\n",
    "file_location_csv = 'data/movies.csv'\n",
    "df = spark.read.format(file_type)\\\n",
    "    .option(\"inferSchema\", infer_schema)\\\n",
    "    .option(\"multiline\",\"true\")\\\n",
    "    .option(\"encoding\",\"utf8\")\\\n",
    "    .option(\"header\", first_row_is_header)\\\n",
    "    .option(\"sep\", delimiter)\\\n",
    "    .load(file_location_csv)\n"
   ]
  },
  {
   "cell_type": "code",
   "execution_count": 35,
   "id": "16049a4e-3ee0-4b95-a062-16db0936c5d2",
   "metadata": {},
   "outputs": [
    {
     "name": "stdout",
     "output_type": "stream",
     "text": [
      "+------------+-------------+--------+---------+----------+\n",
      "|release_date|        title|  budget|  revenue|profitable|\n",
      "+------------+-------------+--------+---------+----------+\n",
      "|  2022-01-30|      Morbius|75000000|161000000|  86000000|\n",
      "|  2022-01-24|The Lost City|74000000|164289828|  90289828|\n",
      "+------------+-------------+--------+---------+----------+\n",
      "only showing top 2 rows\n",
      "\n"
     ]
    }
   ],
   "source": [
    "# Most profitable movies by semester\n",
    "df_case1 = df.select( f.to_date(df.release_date,\"yyyy-mm-dd\").alias('release_date'),\n",
    "                      df.title,\n",
    "                      df.budget.cast('integer'),\n",
    "                      df.revenue.cast('integer'),\n",
    "                      (df.revenue.cast('integer')-df.budget.cast('integer')).alias('profitable')\n",
    "                    )\n",
    "df_case1 = df_case1.filter(df_case1.profitable >0)\n",
    "df_case1.show(n=2)"
   ]
  },
  {
   "cell_type": "code",
   "execution_count": 12,
   "id": "3ad25b67-e68f-4b4e-8c9f-60767544be69",
   "metadata": {},
   "outputs": [
    {
     "name": "stdout",
     "output_type": "stream",
     "text": [
      "+----+--------------------+------------------+\n",
      "|year|              genres|        profitable|\n",
      "+----+--------------------+------------------+\n",
      "|2022|Fantasy-Action-Ad...|             303.5|\n",
      "|2008|Animation-Fantasy...|  385.641035509182|\n",
      "|2016|      Romance-Comedy| 963.6673334027778|\n",
      "|2001|Animation-Family-...|1346.9741842105263|\n",
      "|2013|Fantasy-Action-Ad...|1.3782579487179487|\n",
      "|1997|Action-Adventure-...| 79.79739000000001|\n",
      "|1976|         Crime-Drama| 1257.307812445981|\n",
      "|2013|Horror-Thriller-A...|         153.32898|\n",
      "|2010|Action-Comedy-Thr...|30.879950666666666|\n",
      "|2012|      Thriller-Drama| 340.1938044444444|\n",
      "|1991|        Comedy-Drama|1854.7015133169934|\n",
      "|2000|Drama-Horror-Myst...|        191.420351|\n",
      "|2001|Science Fiction-D...|4.8232083333333335|\n",
      "|2008|Action-Adventure-...|         128.96728|\n",
      "|1966|Drama-Science Fic...| 33.33333333333333|\n",
      "|1990|Action-Crime-Dram...|         116.33874|\n",
      "|2003|  Drama-Comedy-Crime| 232.5603869565217|\n",
      "|2015|Action-Mystery-Drama|1.9607843137254901|\n",
      "|1935|Comedy-Drama-Romance|125.14619883040936|\n",
      "|2006|               Music|             900.0|\n",
      "+----+--------------------+------------------+\n",
      "only showing top 20 rows\n",
      "\n"
     ]
    }
   ],
   "source": [
    "# Most profitable genres by year\n",
    "# select the columns base \n",
    "df_case2 = df.select( f.to_date(df.release_date,\"yyyy-mm-dd\").alias('release_date'),\n",
    "                      f.year(df.release_date).alias('year'),\n",
    "                      df.title,\n",
    "                      df.genres,\n",
    "                      df.budget.cast('integer'),\n",
    "                      df.revenue.cast('integer'),\n",
    "                      (df.revenue.cast('integer')-df.budget.cast('integer')).alias('Profit')\n",
    "                    )\n",
    "# add column  Profitability= =([@revenue]-[@budget])/[@revenue]\n",
    "df_case2 = df_case2.withColumn(\"profitable\", (df_case2.Profit/df_case2.budget)*100)\n",
    "# filter profitable > 0 \n",
    "df_case2 = df_case2.filter(df_case2.profitable >0)\n",
    "# group by year - genres with avg --> profitable\n",
    "df_case2 = df_case2.groupBy(\"year\",\"genres\").agg(f.avg(\"profitable\").alias(\"profitable\"))\n",
    "# save path metric ( csv )\n",
    "df_case2.write.csv(\"metric/case2.csv\",header=True)\n",
    "# printdf case N 2\n",
    "df_case2.show(n=20)"
   ]
  },
  {
   "cell_type": "code",
   "execution_count": 17,
   "id": "4f9e30f5-fa9a-4954-9852-c2e607ff34f3",
   "metadata": {},
   "outputs": [
    {
     "name": "stdout",
     "output_type": "stream",
     "text": [
      "+--------------------+--------------------+--------------------+----+\n",
      "|               title|              genres|          profitable|rank|\n",
      "+--------------------+--------------------+--------------------+----+\n",
      "|          Angel Town|              Action|   99994.73684210527|   1|\n",
      "|           The Fight|              Action|              8900.0|   2|\n",
      "|Wanderlei Silva f...|              Action|              6900.0|   3|\n",
      "|       Death Wish II|              Action|              2150.0|   4|\n",
      "|Good Guys Wear Black|              Action|              1730.0|   5|\n",
      "|Fortnite the Movi...|    Action-Adventure|1.6666566666666666E7|   1|\n",
      "|Fortnite: The Fin...|    Action-Adventure|           9999900.0|   2|\n",
      "|Kickboxer 2: The ...|    Action-Adventure|  1405194.3820224719|   3|\n",
      "|The Flash - A New...|    Action-Adventure|  1494.0000000000002|   4|\n",
      "|         Pulimurugan|    Action-Adventure|  1326.3157894736842|   5|\n",
      "|     Kung Fu Panda 3|Action-Adventure-...|   259.4281551724138|   1|\n",
      "|The Lego Movie 2:...|Action-Adventure-...|   94.40029292929293|   2|\n",
      "|     The Incredibles|Action-Adventure-...|            586.3501|   1|\n",
      "|       Incredibles 2|Action-Adventure-...|         521.4026795|   2|\n",
      "|       Kung Fu Panda|Action-Adventure-...|  385.95735384615386|   1|\n",
      "|Spider-Man: Into ...|Action-Adventure-...|  317.26759000000004|   1|\n",
      "|    Battle for Terra|Action-Adventure-...|            52.52615|   2|\n",
      "|Justice League: T...|Action-Adventure-...|             49.4608|   1|\n",
      "|                   9|Action-Adventure-...|  61.426876666666665|   1|\n",
      "|Smokey and the Ba...|Action-Adventure-...|   2847.382046511628|   1|\n",
      "+--------------------+--------------------+--------------------+----+\n",
      "only showing top 20 rows\n",
      "\n"
     ]
    }
   ],
   "source": [
    "# Top 10 profitable movies by genres (maximum of 5 genres)\n",
    "# select the columns base - filter genres is not null\n",
    "df_case3 = df.select( df.title,\n",
    "                      df.genres,\n",
    "                      df.budget.cast('integer'),\n",
    "                      df.revenue.cast('integer'),\n",
    "                      (df.revenue.cast('integer')-df.budget.cast('integer')).alias('Profit')\n",
    "                    ).filter(df.genres.isNotNull())\n",
    "# add column  Profitability= =([@revenue]-[@budget])/[@revenue]\n",
    "df_case3 = df_case3.withColumn(\"profitable\", (df_case3.Profit/df_case3.budget)*100)\n",
    "# filter profitable > 0\n",
    "df_case3 = df_case3.filter(df_case3.profitable >0)\n",
    "# group by title and genres\n",
    "df_case3 = df_case3.groupBy(\"title\",\"genres\").agg(f.sum(\"profitable\").alias(\"profitable\")).sort('genres','title')\n",
    "\n",
    "#partition geners order by profitable\n",
    "window = Window.partitionBy(df_case3['genres']).orderBy(df_case3['profitable'].desc())\n",
    "\n",
    "\n",
    "df_case3 = df_case3.select('*', f.rank().over(window).alias('rank'))\\\n",
    "  .filter(f.col('rank') <= 5)\n",
    "# save path metric ( csv )\n",
    "df_case3.write.csv(\"metric/case3.csv\",header=True)\n",
    "# printdf case N 3\n",
    "df_case3.show(n=20)"
   ]
  },
  {
   "cell_type": "code",
   "execution_count": 40,
   "id": "7dfa8847-aef7-43c2-afce-6b43dc7c0123",
   "metadata": {},
   "outputs": [
    {
     "name": "stdout",
     "output_type": "stream",
     "text": [
      "+--------------------+-----+------------------+\n",
      "|              genres|month|        popularity|\n",
      "+--------------------+-----+------------------+\n",
      "|              Action|    1|1553.5560000000023|\n",
      "|              Action|    2| 770.9639999999994|\n",
      "|              Action|    3| 1346.307000000001|\n",
      "|              Action|    4|2246.8939999999975|\n",
      "|              Action|    5|          1210.075|\n",
      "|              Action|    6| 869.2370000000001|\n",
      "|              Action|    7| 578.5749999999999|\n",
      "|              Action|    8| 922.6569999999991|\n",
      "|              Action|    9|1374.8950000000011|\n",
      "|              Action|   10| 729.4469999999997|\n",
      "|              Action|   11|          1387.446|\n",
      "|              Action|   12| 882.4510000000004|\n",
      "|Action-Action-Thr...|    2|             6.212|\n",
      "|    Action-Adventure|    1|184.94100000000012|\n",
      "|    Action-Adventure|    2| 6220.679000000001|\n",
      "|    Action-Adventure|    3|            138.11|\n",
      "|    Action-Adventure|    4| 549.6479999999998|\n",
      "|    Action-Adventure|    5|            84.957|\n",
      "|    Action-Adventure|    6|100.13200000000002|\n",
      "|    Action-Adventure|    7| 494.3069999999999|\n",
      "+--------------------+-----+------------------+\n",
      "only showing top 20 rows\n",
      "\n"
     ]
    }
   ],
   "source": [
    "df_case4 = df.select( \n",
    "                      f.month(df.release_date).alias('month'),\n",
    "                      df.title,\n",
    "                      df.genres,\n",
    "                      df.popularity\n",
    "                    ).filter((df.genres.isNotNull())& (df.popularity >0) & (df.release_date.isNotNull()))\n",
    "\n",
    "df_case4 = df_case4.groupBy(\"genres\",\"month\").agg(f.sum(\"popularity\").alias(\"popularity\")).sort('genres','month')\n",
    "df_case4.write.csv(\"case4.csv\",header=True)\n",
    "df_case4.show(n=20)"
   ]
  },
  {
   "cell_type": "code",
   "execution_count": 41,
   "id": "b4bebdf9-075c-440f-9475-12eff3064b23",
   "metadata": {},
   "outputs": [
    {
     "name": "stdout",
     "output_type": "stream",
     "text": [
      "+------------------------------------------------+-----+\n",
      "|genres                                          |count|\n",
      "+------------------------------------------------+-----+\n",
      "| Daniel Blake\"\"\"                                |1    |\n",
      "| Don't Tell\"\"\"                                  |1    |\n",
      "| Hawaiian Islands\"                              |1    |\n",
      "| Hiyodori Tengu!\"\"\"                             |1    |\n",
      "| I'm an American\"\"\"                             |1    |\n",
      "| Ima no Morning Musume. desu. 17 Nenme mo       |1    |\n",
      "| Uncut & Uncensored\"\"\"                          |1    |\n",
      "| karā aiziedams\"\"\"                              |1    |\n",
      "| world\"\"\"                                       |1    |\n",
      "| you are mad\"\" - Tage Danielsson\"               |1    |\n",
      "|\"\" Waikiki                                      |1    |\n",
      "|0.6                                             |1    |\n",
      "|Action                                          |3709 |\n",
      "|Action-Action-Crime                             |1    |\n",
      "|Action-Action-Thriller                          |3    |\n",
      "|Action-Adventure                                |269  |\n",
      "|Action-Adventure-Animation                      |21   |\n",
      "|Action-Adventure-Animation-Comedy               |5    |\n",
      "|Action-Adventure-Animation-Comedy-Crime-TV Movie|1    |\n",
      "|Action-Adventure-Animation-Comedy-Drama-Fantasy |1    |\n",
      "+------------------------------------------------+-----+\n",
      "only showing top 20 rows\n",
      "\n"
     ]
    }
   ],
   "source": [
    "df_case5 = df.select( df.release_date,\n",
    "                      df.genres,\n",
    "                    ).filter((df.genres.isNotNull()) & \n",
    "                             (df.release_date.isNotNull()) & \n",
    "                             (df.release_date > '1997-01-01')\n",
    "                            )\n",
    "\n",
    "df_case5 = df_case5.groupBy(\"genres\").agg(f.count(\"genres\").alias(\"count\")).sort('genres')\n",
    "\n",
    "df_case5.write.csv(\"case5.csv\",header=True)\n",
    "df_case5.show(n=20,truncate=False)"
   ]
  }
 ],
 "metadata": {
  "kernelspec": {
   "display_name": "Python 3 (ipykernel)",
   "language": "python",
   "name": "python3"
  },
  "language_info": {
   "codemirror_mode": {
    "name": "ipython",
    "version": 3
   },
   "file_extension": ".py",
   "mimetype": "text/x-python",
   "name": "python",
   "nbconvert_exporter": "python",
   "pygments_lexer": "ipython3",
   "version": "3.10.4"
  }
 },
 "nbformat": 4,
 "nbformat_minor": 5
}
